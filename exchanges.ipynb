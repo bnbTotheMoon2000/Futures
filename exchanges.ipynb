{
 "cells": [
  {
   "cell_type": "code",
   "execution_count": null,
   "metadata": {},
   "outputs": [],
   "source": [
    "# Bybit risk limit url \n",
    "# \"https://api-testnet.bybit.com/derivatives/v3/public/risk-limit/list\"\n",
    "# Okx risk limit url \n",
    "# /api/v5/public/position-tiers\n",
    "# \"https://www.okx.com/api/v5/public/position-tiers?instType=SWAP&tdMode=cross&uly=BTC-USDT,ETH-USDT,XRP-USDT\"\n",
    "# instType=SWAP&tdMode=cross&uly=BTC-USDT,ETH-USDT,XRP-USDT \n",
    "# https://www.okx.com/docs-v5/zh/#public-data-rest-api-get-position-tiers\n",
    "\n",
    "#获取交易产品基础信息\n",
    "# GET /api/v5/public/instruments\n",
    "# https://www.okx.com/docs-v5/zh/#public-data-rest-api-get-instruments"
   ]
  },
  {
   "cell_type": "markdown",
   "metadata": {},
   "source": [
    "# BYBIT"
   ]
  },
  {
   "cell_type": "code",
   "execution_count": null,
   "metadata": {},
   "outputs": [],
   "source": [
    "import requests\n",
    "import pandas as pd \n",
    "import warnings\n",
    "warnings.filterwarnings(\"ignore\")\n",
    "\n",
    "url = \"https://api-testnet.bybit.com/derivatives/v3/public/risk-limit/list\"\n",
    "\n",
    "response = requests.request(\"GET\", url)\n",
    "\n",
    "bybit = pd.DataFrame(response.json()['result']['list'])\n",
    "\n",
    "\n",
    "bybit_symbols = list(bybit['symbol'].unique())\n",
    "# group by symbol \n",
    "bybit.groupby(by='symbol').get_group(bybit_symbols[5])\n",
    "\n",
    "bybit[['limit','maintainMargin','initialMargin','isLowestRisk','maxLeverage']] = bybit[['limit','maintainMargin','initialMargin','isLowestRisk','maxLeverage']].astype(float)\n",
    "bybit.sort_values(by='maxLeverage',ascending=False)\n",
    "# bybit_50 = bybit[bybit['maxLeverage']==50.0]\n",
    "\n",
    "bybit[bybit['symbol'].str.endswith('USDT')]\n",
    "\n",
    "bybit_maxLeverage = pd.DataFrame()\n",
    "\n",
    "for symbol in bybit_symbols:\n",
    "    single_max = bybit.groupby(by='symbol').get_group(symbol).sort_values(by='maxLeverage',ascending=False)\n",
    "    bybit_maxLeverage = pd.concat([bybit_maxLeverage,single_max],ignore_index=True)\n",
    "\n",
    "def check_mm(df):\n",
    "    if df['initialMargin'] / df['maintainMargin']>=2:\n",
    "        return True\n",
    "    else:\n",
    "        return round(df['initialMargin'] / df['maintainMargin'],2)\n",
    "    \n",
    "bybit_maxLeverage['mm_check'] = bybit_maxLeverage.apply(check_mm,axis=1)\n",
    "bybit_maxLeverage = bybit_maxLeverage[bybit_maxLeverage.symbol.str.endswith('USDT')]\n",
    "bybit_maxLeverage[bybit_maxLeverage['mm_check'] !=True]\n",
    "bybit_funding_url = \"https://api2.bybit.com/contract/v5/public/support/trading-param?category=LinearPerpetual\"\n",
    "funding_data = requests.request(\"GET\",bybit_funding_url).json()['result']['list']\n",
    "funding_df = pd.DataFrame(funding_data)\n",
    "\n",
    "funding_df = funding_df[['symbolName','fundingRateInterval','fundingRateClamp']]\n",
    "bybit_info = pd.merge(left= bybit_maxLeverage,right=funding_df,left_on='symbol',right_on='symbolName',how='left').drop(columns=['symbolName','id'])\n",
    "bybit_info['exchange'] = 'bybit'\n",
    "# bybit_info includes bracket levels in Bybit including imr, mmr, leverage,funding rate interval, funding rate clamp, max position on leverage "
   ]
  },
  {
   "cell_type": "markdown",
   "metadata": {},
   "source": [
    "# OKX "
   ]
  },
  {
   "cell_type": "code",
   "execution_count": null,
   "metadata": {},
   "outputs": [],
   "source": [
    "import pandas as pd \n",
    "import requests \n",
    "import time \n",
    "\n",
    "# 获取OkX 所有合约交易对\n",
    "okx_url = \"https://www.okx.com/api/v5/public/instruments?instType=SWAP\"\n",
    "resp = requests.get(okx_url).json()['data']\n",
    "okx_symbols = []\n",
    "for symbol in resp:\n",
    "    if 'USDT' in symbol['instId'] and symbol['state']=='live':\n",
    "        okx_symbols.append(symbol['instId'])\n",
    "\n",
    "ok_bracket = pd.DataFrame()\n",
    "for i in range(0,len(okx_symbols),3):\n",
    "    if i%3 ==0:\n",
    "        symbol_para = (okx_symbols[i].split('-SWAP')[0]+\",\"+okx_symbols[i+1].split('-SWAP')[0]+\",\"+okx_symbols[i+2].split('-SWAP')[0])\n",
    "        okx_riskUrl = \"https://www.okx.com/api/v5/public/position-tiers?instType=SWAP&tdMode=cross&uly=\"+symbol_para\n",
    "        resp = requests.get(okx_riskUrl).json()['data']\n",
    "        temp = pd.DataFrame(resp)\n",
    "        ok_bracket = pd.concat([ok_bracket,temp],ignore_index=True)\n",
    "        time.sleep(1)\n",
    "print(\"Download Completed!!! \")\n",
    "\n",
    "ok_bracket['instFamily'] = ok_bracket['instFamily'].str.replace('-',\"\")\n",
    "group_1 = ['BTCUSDT']\n",
    "group_2 = [\"ADA\", \"AVAX\", \"BCH\", \"DOT\", \"EOS\", \"ETC\", \"ETH\", \"FIL\", \"LINK\", \"LTC\", \"TRX\", \"XRP\"]\n",
    "group_2 = [i+'USDT' for i in group_2]\n",
    "group_2.append('BTCUSDC')\n",
    "\n",
    "for index,column in ok_bracket.iterrows():\n",
    "    if column['instFamily'] in group_1:\n",
    "        ok_bracket.loc[index,'fundingCap/Floor'] = 0.375\n",
    "    elif column['instFamily'] in group_2:\n",
    "        ok_bracket.loc[index,'fundingCap/Floor'] = 0.75\n",
    "    else:\n",
    "        ok_bracket.loc[index,'fundingCap/Floor'] = 1.5\n",
    "\n",
    "ok_bracket.drop(columns = 'baseMaxLoan')\n",
    "ok_bracket['funding_interval'] = 8\n",
    "ok_bracket['exchange'] ='okx'\n",
    "filter_okx = ok_bracket[['instFamily','imr','mmr','maxSz','maxLever','fundingCap/Floor','funding_interval','exchange']]\n",
    "\n",
    "# 获取okx合约标记价格\n",
    "# GET /api/v5/public/mark-price?instType=SWAP\n",
    "\n",
    "ok_mp = \"https://www.okx.com/api/v5/public/mark-price?instType=SWAP\"\n",
    "ok_mp = pd.DataFrame(requests.get(ok_mp).json()['data'])\n",
    "ok_mp['markPx'] = ok_mp['markPx'].astype(float)\n",
    "ok_mp['symbol'] = ok_mp['instId'].str.replace('-SWAP','').str.replace('-','')\n",
    "ok_mp['ts'] =  pd.to_datetime(ok_mp['ts'],unit='ms')\n",
    "ok_mp = ok_mp[['symbol','markPx','ts']]\n",
    "\n",
    "ts = int(time.time()*1000)\n",
    "url_1 = f\"https://www.okx.com/priapi/v5/public/products?t={ts}&instType=SWAP&instId=BTC-USDT-SWAP,ETH-USDT-SWAP,LTC-USDT-SWAP,XRP-USDT-SWAP,BCH-USDT-SWAP,SOL-USDT-SWAP,TRB-USDT-SWAP,STARL-USDT-SWAP,PEPE-USDT-SWAP,FIL-USDT-SWAP,AIDOGE-USDT-SWAP,1INCH-USDT-SWAP,AAVE-USDT-SWAP,ADA-USDT-SWAP,AGLD-USDT-SWAP,ALGO-USDT-SWAP,ALPHA-USDT-SWAP,ANT-USDT-SWAP,APE-USDT-SWAP,API3-USDT-SWAP,APT-USDT-SWAP,AR-USDT-SWAP,ARB-USDT-SWAP,ATOM-USDT-SWAP,AVAX-USDT-SWAP,AXS-USDT-SWAP,BADGER-USDT-SWAP,BAL-USDT-SWAP,BAND-USDT-SWAP,BAT-USDT-SWAP,BICO-USDT-SWAP,BIGTIME-USDT-SWAP,BLUR-USDT-SWAP,BNB-USDT-SWAP,BNT-USDT-SWAP,BSV-USDT-SWAP,CELO-USDT-SWAP,CEL-USDT-SWAP,CETUS-USDT-SWAP,CFX-USDT-SWAP,CHZ-USDT-SWAP,COMP-USDT-SWAP,CORE-USDT-SWAP,CRO-USDT-SWAP,CRV-USDT-SWAP,CSPR-USDT-SWAP,CVC-USDT-SWAP,DASH-USDT-SWAP,DOGE-USDT-SWAP,DOT-USDT-SWAP\"\n",
    "url_2 = f\"https://www.okx.com/priapi/v5/public/products?t={ts}&instType=SWAP&instId=DYDX-USDT-SWAP,EGLD-USDT-SWAP,ENS-USDT-SWAP,EOS-USDT-SWAP,ETC-USDT-SWAP,ETHW-USDT-SWAP,FITFI-USDT-SWAP,FLM-USDT-SWAP,FLOKI-USDT-SWAP,FRONT-USDT-SWAP,FTM-USDT-SWAP,GALA-USDT-SWAP,GAS-USDT-SWAP,GFT-USDT-SWAP,GMT-USDT-SWAP,GMX-USDT-SWAP,GODS-USDT-SWAP,GRT-USDT-SWAP,HBAR-USDT-SWAP,ICP-USDT-SWAP,IMX-USDT-SWAP,IOST-USDT-SWAP,IOTA-USDT-SWAP,JST-USDT-SWAP,KISHU-USDT-SWAP,KLAY-USDT-SWAP,KNC-USDT-SWAP,KSM-USDT-SWAP,LDO-USDT-SWAP,LINK-USDT-SWAP,LOOKS-USDT-SWAP,LPT-USDT-SWAP,LRC-USDT-SWAP,LUNA-USDT-SWAP,LUNC-USDT-SWAP,MAGIC-USDT-SWAP,MANA-USDT-SWAP,MASK-USDT-SWAP,MATIC-USDT-SWAP,MINA-USDT-SWAP,MKR-USDT-SWAP,NEAR-USDT-SWAP,NEO-USDT-SWAP,NFT-USDT-SWAP,OMG-USDT-SWAP,ONT-USDT-SWAP,OP-USDT-SWAP,ORBS-USDT-SWAP,ORDI-USDT-SWAP,PEOPLE-USDT-SWAP\"\n",
    "url_3 = f\"https://www.okx.com/priapi/v5/public/products?t={ts}&instType=SWAP&instId=PERP-USDT-SWAP,QTUM-USDT-SWAP,RACA-USDT-SWAP,RDNT-USDT-SWAP,REN-USDT-SWAP,RNDR-USDT-SWAP,RSR-USDT-SWAP,RVN-USDT-SWAP,SAND-USDT-SWAP,SHIB-USDT-SWAP,SLP-USDT-SWAP,SNX-USDT-SWAP,STORJ-USDT-SWAP,STX-USDT-SWAP,SUI-USDT-SWAP,SUSHI-USDT-SWAP,SWEAT-USDT-SWAP,THETA-USDT-SWAP,TON-USDT-SWAP,TRX-USDT-SWAP,UMA-USDT-SWAP,UNI-USDT-SWAP,USDC-USDT-SWAP,USTC-USDT-SWAP,VRA-USDT-SWAP,WAVES-USDT-SWAP,WAXP-USDT-SWAP,WLD-USDT-SWAP,WOO-USDT-SWAP,WSM-USDT-SWAP,XCH-USDT-SWAP,XLM-USDT-SWAP,XMR-USDT-SWAP,XTZ-USDT-SWAP,YFI-USDT-SWAP,YFII-USDT-SWAP,YGG-USDT-SWAP,ZEC-USDT-SWAP,ZEN-USDT-SWAP,ZIL-USDT-SWAP,ZRX-USDT-SWAP,BTC-USDC-SWAP,ETH-USDC-SWAP,BTC-USD-SWAP,ETH-USD-SWAP,LTC-USD-SWAP,XRP-USD-SWAP,BCH-USD-SWAP,SOL-USD-SWAP,FIL-USD-SWAP\"\n",
    "\n",
    "url_lists = [url_1,url_2,url_3]\n",
    "\n",
    "symbol_faceValue = pd.DataFrame()\n",
    "\n",
    "for url in url_lists:\n",
    "    ok_symbol_list = requests.get(url).json()['data']\n",
    "    ok_symbol_FV = pd.DataFrame([{'symbol':i.get('instFamily').replace('-',''),'face_value':i.get('ctVal')} for i in ok_symbol_list])\n",
    "    ok_symbol_FV['face_value'] = ok_symbol_FV['face_value'].astype(float)\n",
    "    symbol_faceValue = pd.concat([symbol_faceValue,ok_symbol_FV],ignore_index=True)\n",
    "    time.sleep(0.5)\n",
    "symbol_faceValue\n",
    "first_merge = pd.merge(ok_mp,symbol_faceValue,on='symbol',how='right')\n",
    "# \n",
    "first_merge.head()\n",
    "first_merge['value'] = first_merge['markPx']*first_merge['face_value']\n",
    "# pd.merge()\n",
    "second_merge = pd.merge(first_merge,filter_okx,left_on='symbol',right_on='instFamily',how='right')\n",
    "# second_merge\n",
    "# filter_okx['maxSz'] = second_merge['value']*second_merge['maxSz']\n",
    "# filter_okx\n",
    "second_merge['maxSz'] = second_merge['maxSz'].astype(float)\n",
    "second_merge['value']*second_merge['maxSz']\n",
    "filter_okx['maxSz'] = second_merge['value']*second_merge['maxSz']\n",
    "# filter_ok contains instFamily (symbol), imr, mmr, maxSz(max position on leverage in USDT), maxLever(leverage), funding cap/floor, funding interval, exchange\n",
    "        "
   ]
  },
  {
   "cell_type": "markdown",
   "metadata": {},
   "source": [
    "### ok 获取合约面值数据  \n",
    "https://www.okx.com/priapi/v5/public/products?t=1698692954633&instType=SWAP&instId=BTC-USDT-SWAP,ETH-USDT-SWAP,LTC-USDT-SWAP,XRP-USDT-SWAP,BCH-USDT-SWAP,SOL-USDT-SWAP,TRB-USDT-SWAP,STARL-USDT-SWAP,PEPE-USDT-SWAP,FIL-USDT-SWAP,AIDOGE-USDT-SWAP,1INCH-USDT-SWAP,AAVE-USDT-SWAP,ADA-USDT-SWAP,AGLD-USDT-SWAP,ALGO-USDT-SWAP,ALPHA-USDT-SWAP,ANT-USDT-SWAP,APE-USDT-SWAP,API3-USDT-SWAP,APT-USDT-SWAP,AR-USDT-SWAP,ARB-USDT-SWAP,ATOM-USDT-SWAP,AVAX-USDT-SWAP,AXS-USDT-SWAP,BADGER-USDT-SWAP,BAL-USDT-SWAP,BAND-USDT-SWAP,BAT-USDT-SWAP,BICO-USDT-SWAP,BIGTIME-USDT-SWAP,BLUR-USDT-SWAP,BNB-USDT-SWAP,BNT-USDT-SWAP,BSV-USDT-SWAP,CELO-USDT-SWAP,CEL-USDT-SWAP,CETUS-USDT-SWAP,CFX-USDT-SWAP,CHZ-USDT-SWAP,COMP-USDT-SWAP,CORE-USDT-SWAP,CRO-USDT-SWAP,CRV-USDT-SWAP,CSPR-USDT-SWAP,CVC-USDT-SWAP,DASH-USDT-SWAP,DOGE-USDT-SWAP,DOT-USDT-SWAP\n",
    "\n",
    "### ok 获取标记价格\n",
    "\n",
    "GET /api/v5/public/mark-price\n",
    "\n"
   ]
  },
  {
   "cell_type": "markdown",
   "metadata": {},
   "source": [
    "# Binance"
   ]
  },
  {
   "cell_type": "code",
   "execution_count": null,
   "metadata": {},
   "outputs": [],
   "source": [
    "from binance import Client\n",
    
    "api_key = ''\n",
    "api_secret = ''\n",
    "client = Client(api_key,api_secret)\n",
    "# pd.DataFrame(client.futures_leverage_bracket())\n",
    "bracket = client.futures_leverage_bracket()\n",
    "bn_bracket = pd.DataFrame()\n",
    "for i in bracket:\n",
    "    temp = pd.DataFrame(i['brackets'])\n",
    "    temp.insert(0,'symbol',i['symbol'])\n",
    "    bn_bracket = pd.concat([bn_bracket,temp],ignore_index=True)\n",
    "\n",
    "bn_funding = pd.read_excel('funding_interval.xlsx')\n",
    "bn_funding[['symbol','funding_interval','current_cap_floor','default_cap_floor']]\n",
    "\n",
    "bn_funding['adj_cap_floor'] = bn_funding['current_cap_floor'].str.split(' / ',expand=True)[0].str.replace('%','').astype(float)\n",
    "bn_funding['default_cap_floor'] = bn_funding['default_cap_floor'].str.split(' / ',expand=True)[0].str.replace('%','').astype(float)\n",
    "bn_funding = bn_funding[['symbol','funding_interval','adj_cap_floor','default_cap_floor']]\n",
    "bn_funding['symbol'] = bn_funding['symbol'].str.replace(' Perpetual','')\n",
    "bn_bracket = pd.merge(left=bn_bracket,right=bn_funding,on='symbol',how='left').dropna(subset=['funding_interval'])\n",
    "bn_bracket['funding_interval'] = bn_bracket['funding_interval'].str.replace('h','').astype(int)\n",
    "bn_bracket['exchange'] ='binance'\n",
    "bn_bracket.insert(6,'initialMargin',bn_bracket['initialLeverage'].astype(float).apply(lambda x: 1/x))\n",
    "# bn_bracket contains  bracket, initialLeverage, notionalCap and notionalFloor, maintMarginRatio, iniitalMargin, cum, funding_interval, adj_cap_floor, default_cap_floor, exchange"
   ]
  },
  {
   "cell_type": "markdown",
   "metadata": {},
   "source": [
    "# 对比Bybit, OKX, Binance的合约bracket和funding 参数"
   ]
  },
  {
   "cell_type": "markdown",
   "metadata": {},
   "source": [
    "### 在Binance, OKX, Bybit 对比单一symbol "
   ]
  },
  {
   "cell_type": "code",
   "execution_count": null,
   "metadata": {},
   "outputs": [],
   "source": [
    "# 进行合并\n",
    "# okx: filter_okx\n",
    "# bybit: bybit_info\n",
    "# binance: bn_bracket\n",
    "# 统一列字段名\n",
    "# symbol,imr,mmr,amount_cap,amt_floor,leverage,funding_interval,exchange\n",
    "search_symbol = input(\"Please input the symbol you want to search: \")\n",
    "columns_name = ['symbol','imr','mmr','amount_cap','leverage','funding_cap','funding_interval','exchange']\n",
    "bn = bn_bracket[['symbol','initialMargin','maintMarginRatio','notionalCap','initialLeverage','adj_cap_floor','funding_interval','exchange']]\n",
    "ok = filter_okx[['instFamily','imr','mmr','maxSz','maxLever','fundingCap/Floor','funding_interval','exchange']]\n",
    "bybit = bybit_info[['symbol','initialMargin','maintainMargin','limit','maxLeverage','fundingRateClamp','fundingRateInterval','exchange']]\n",
    "\n",
    "bn.columns = columns_name\n",
    "ok.columns = columns_name\n",
    "ok[['imr','mmr','amount_cap','leverage','funding_cap','funding_interval']] = ok[['imr','mmr','amount_cap','leverage','funding_cap','funding_interval']].astype(float)\n",
    "bybit.columns = columns_name\n",
    "bybit[['funding_cap','funding_interval']] = bybit[['funding_cap','funding_interval']].astype(float)\n",
    "\n",
    "bn_symbols = list(set(bn['symbol']))\n",
    "bn_highestLeverage = pd.DataFrame()\n",
    "for symbol in range(len(bn_symbols)):\n",
    "    temp = bn.groupby(by='symbol').get_group(bn_symbols[symbol]).sort_values(by='leverage',ascending=False).head(1)\n",
    "    bn_highestLeverage = pd.concat([bn_highestLeverage,temp],ignore_index=True)\n",
    "bn_highestLeverage\n",
    "\n",
    "ok_symbols = list(set(ok['symbol']))\n",
    "ok_highestLeverage = pd.DataFrame()\n",
    "for symbol in range(len(ok_symbols)):\n",
    "    temp = ok.groupby(by='symbol').get_group(ok_symbols[symbol]).sort_values(by='leverage',ascending=False).head(1)\n",
    "    ok_highestLeverage = pd.concat([ok_highestLeverage,temp],ignore_index=True)\n",
    "ok_highestLeverage\n",
    "\n",
    "bybit_symbols = list(set(bybit['symbol']))\n",
    "bybit_highestLeverage = pd.DataFrame()\n",
    "for symbol in range(len(bybit_symbols)):\n",
    "    temp = bybit.groupby(by='symbol').get_group(bybit_symbols[symbol]).sort_values(by='leverage',ascending=False).head(1)\n",
    "    bybit_highestLeverage = pd.concat([bybit_highestLeverage,temp],ignore_index=True)\n",
    "\n",
    "bn_symbols = bn_highestLeverage.symbol.to_list()\n",
    "final_merge = pd.DataFrame()\n",
    "for symbol in bn_symbols:\n",
    "    if symbol in ok_highestLeverage.symbol.to_list():\n",
    "        temp = ok_highestLeverage[ok_highestLeverage['symbol']==symbol]\n",
    "        final_merge = pd.concat([final_merge,temp],ignore_index=True)\n",
    "    if symbol in bybit_highestLeverage.symbol.to_list():\n",
    "        temp = bybit_highestLeverage[bybit_highestLeverage['symbol']==symbol]\n",
    "        final_merge = pd.concat([final_merge,temp],ignore_index=True)\n",
    "final_merge = pd.concat([final_merge,bn_highestLeverage],ignore_index=True)\n",
    "final_merge.groupby(by=['symbol']).get_group(search_symbol)\n"
   ]
  },
  {
   "cell_type": "markdown",
   "metadata": {},
   "source": [
    "### 生成透视表，查看各symbol在不同exchanges 的参数表现"
   ]
  },
  {
   "cell_type": "code",
   "execution_count": null,
   "metadata": {},
   "outputs": [],
   "source": [
    "pivot_symbol = pd.pivot(data=final_merge,index=['symbol'],columns = ['exchange'],values=['leverage','mmr','imr','amount_cap','funding_cap','funding_interval']).fillna(\"NA\")#.to_excel('maxLeverage_compare.xlsx')\n",
    "pivot_symbol"
   ]
  },
  {
   "cell_type": "code",
   "execution_count": null,
   "metadata": {},
   "outputs": [],
   "source": []
  },
  {
   "cell_type": "code",
   "execution_count": null,
   "metadata": {},
   "outputs": [],
   "source": []
  },
  {
   "cell_type": "code",
   "execution_count": null,
   "metadata": {},
   "outputs": [],
   "source": []
  },
  {
   "cell_type": "code",
   "execution_count": null,
   "metadata": {},
   "outputs": [],
   "source": []
  },
  {
   "cell_type": "code",
   "execution_count": null,
   "metadata": {},
   "outputs": [],
   "source": []
  },
  {
   "cell_type": "code",
   "execution_count": null,
   "metadata": {},
   "outputs": [],
   "source": []
  },
  {
   "cell_type": "code",
   "execution_count": null,
   "metadata": {},
   "outputs": [],
   "source": []
  },
  {
   "cell_type": "code",
   "execution_count": null,
   "metadata": {},
   "outputs": [],
   "source": []
  },
  {
   "cell_type": "markdown",
   "metadata": {},
   "source": []
  }
 ],
 "metadata": {
  "kernelspec": {
   "display_name": "base",
   "language": "python",
   "name": "python3"
  },
  "language_info": {
   "codemirror_mode": {
    "name": "ipython",
    "version": 3
   },
   "file_extension": ".py",
   "mimetype": "text/x-python",
   "name": "python",
   "nbconvert_exporter": "python",
   "pygments_lexer": "ipython3",
   "version": "3.9.13"
  },
  "orig_nbformat": 4
 },
 "nbformat": 4,
 "nbformat_minor": 2
}
